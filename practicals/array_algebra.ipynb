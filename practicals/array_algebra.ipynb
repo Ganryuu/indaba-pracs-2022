{
	"cells":[
		{
			"cell_type":"markdown",
			"metadata":{},
			"source":[
				"# Array Algebra"
			]
		},
		{
			"cell_type":"markdown",
			"metadata":{},
			"source":[
				"<center><img width=\"400\" src=\"https://quivergeometry.net/indaba/07ozagz3u8q1h_1g9xeqr8o55fk_0800_1012.png\"></center>"
			]
		},
		{
			"cell_type":"markdown",
			"metadata":{},
			"source":[
				"**Authors:** Taliesin Beynon"
			]
		},
		{
			"cell_type":"markdown",
			"metadata":{},
			"source":[
				"**Introduction:** Array algebra is the theory and practice of manipulating and computing with arrays of numbers. The\nunderlying ideas are quite simple and intuitive, once you're used to them! This practical will cover some of the core\nconcepts, and focus on visualizing the operations to make them easier to understand."
			]
		},
		{
			"cell_type":"markdown",
			"metadata":{},
			"source":[
				"**Topics:** numpy, jax, array processing"
			]
		},
		{
			"cell_type":"markdown",
			"metadata":{},
			"source":[
				"**Learning objectives:**"
			]
		},
		{
			"cell_type":"markdown",
			"metadata":{},
			"source":[
				"* Understand how arrays of number of various sizes and shapes can represent data from the real world\n",
				"* Manipulate these arrays to perform useful computations\n",
				"* Understand how shapes of arrays are transformed by these operations\n",
				"* Detect bugs in existing code\n",
				"* Choose the right transformations to accomplish a given task."
			]
		},
		{
			"cell_type":"markdown",
			"metadata":{},
			"source":[
				"# Installation and imports"
			]
		},
		{
			"cell_type":"code",
			"execution_count":null,
			"metadata":{
				"id":"1lvkf123i6qe6"
			},
			"outputs":[],
			"source":[
				"## Install and import anything required. Capture hides the output from the cell. \n",
				"#@title Install and import required packages. (Run Cell)\n",
				"import os \n",
				"import matplotlib.pyplot as plt\n",
				"import numpy as np"
			]
		},
		{
			"cell_type":"markdown",
			"metadata":{},
			"source":[
				"# What are arrays?"
			]
		},
		{
			"cell_type":"markdown",
			"metadata":{},
			"source":[
				"To get started we'll cover some very basic ideas in array algebra."
			]
		},
		{
			"cell_type":"markdown",
			"metadata":{},
			"source":[
				"A **numeric array** is a data structure containing **numbers**. These numbers are *organized* in a system, grid-like\nway. We can classify arrays by *how* they organize these numbers -- in particular the shapes of grids they use. But\nfirst, let's introduce some terminology."
			]
		},
		{
			"cell_type":"markdown",
			"metadata":{},
			"source":[
				"Each **number** in an array lives in a **cell**. The **value** of the cell is the number it contains. The **position**\nof the cell is where the cell is located within the array."
			]
		},
		{
			"cell_type":"markdown",
			"metadata":{},
			"source":[
				"We can make a useful analogy between an *array of numbers* and a *neighborhood of houses*. The *houses* are organized\ninto *streets,* and each house contains a certain number of *people*."
			]
		},
		{
			"cell_type":"markdown",
			"metadata":{},
			"source":[
				"### A single house"
			]
		},
		{
			"cell_type":"markdown",
			"metadata":{},
			"source":[
				"The simplest kind of neighborhood only has one house in it! This house doesn't need to have an address, because we don't\nneed to distinguish it from any other houses. The postman will clearly know which house to go to *without* an address!"
			]
		},
		{
			"cell_type":"markdown",
			"metadata":{},
			"source":[
				"On the left we show this **neighborhood**, which has only one house that contains 3 people. On the right we show the\n**array** it corresponds to in our analogy."
			]
		},
		{
			"cell_type":"markdown",
			"metadata":{},
			"source":[
				"<center><img width=\"194\" src=\"https://quivergeometry.net/indaba/1dnf8sshrh605_1ndsxwxnpr7wt_0388_0100.png\"></center>"
			]
		},
		{
			"cell_type":"markdown",
			"metadata":{},
			"source":[
				"This kind of array is so simple that most people don't usually call it an array, but is technically a **0-array**! More\nfrequently it is known as a **scalar**."
			]
		},
		{
			"cell_type":"markdown",
			"metadata":{},
			"source":[
				"Here is how we can create such a scalar in numpy. Run this code and see what the **shape** of this array is, we'll talk\nmore about this later!"
			]
		},
		{
			"cell_type":"code",
			"execution_count":null,
			"metadata":{
				"id":"1lvkf123i6qe6"
			},
			"outputs":[],
			"source":[
				"scalar = np.array(3)\n",
				"scalar.shape"
			]
		},
		{
			"cell_type":"markdown",
			"metadata":{},
			"source":[
				"### A single road"
			]
		},
		{
			"cell_type":"markdown",
			"metadata":{},
			"source":[
				"Now let's consider a neighborhood with just one street, and 3 houses on it:"
			]
		},
		{
			"cell_type":"markdown",
			"metadata":{},
			"source":[
				"<center><img width=\"407\" src=\"https://quivergeometry.net/indaba/1hq0cwudjn87g_1fhtcvfqfqc5m_0814_0168.png\"></center>"
			]
		},
		{
			"cell_type":"markdown",
			"metadata":{},
			"source":[
				"Notice we've labeled each *house* with its *street address**,* just like we've labeled each *cell* with its *position*\nin the array on the right."
			]
		},
		{
			"cell_type":"markdown",
			"metadata":{},
			"source":[
				"This kind of array, where a cell position consists of a single number, is called a **1-array**, or **vector**."
			]
		},
		{
			"cell_type":"markdown",
			"metadata":{},
			"source":[
				"Here is how we can create this vector in numpy: run this code and again notice the shape."
			]
		},
		{
			"cell_type":"code",
			"execution_count":null,
			"metadata":{
				"id":"1lvkf123i6qe6"
			},
			"outputs":[],
			"source":[
				"vector = np.array([3, 2, 0])\n",
				"vector.shape"
			]
		},
		{
			"cell_type":"markdown",
			"metadata":{},
			"source":[
				"**Task**: try to guess what *shape* means from these first two examples"
			]
		},
		{
			"cell_type":"markdown",
			"metadata":{},
			"source":[
				"### Two streets"
			]
		},
		{
			"cell_type":"markdown",
			"metadata":{},
			"source":[
				"Now let's imagine a neighborhood with two streets, both with the same number of houses (3) on each."
			]
		},
		{
			"cell_type":"markdown",
			"metadata":{},
			"source":[
				"<center><img width=\"414\" src=\"https://quivergeometry.net/indaba/1r4r8ckqv0ifj_0xgyj05dg5feh_0828_0378.png\"></center>"
			]
		},
		{
			"cell_type":"markdown",
			"metadata":{},
			"source":[
				"To locate a house in the neighborhood, we need both the street name (1 or 2), and the house number *on* that street (1,\n2 or 3). Similarly, to locate a cell in the array, we need the number of the row (1 or 2), and the number of the column\n(1, 2, or 3). For example, the cell at address `(2, 3)` has value 4."
			]
		},
		{
			"cell_type":"markdown",
			"metadata":{},
			"source":[
				"This kind of array, in which the positions of cells require two numbers to describe them, is called a **matrix** or\n**2-array**."
			]
		},
		{
			"cell_type":"markdown",
			"metadata":{},
			"source":[
				"Here's how we can create this example in numpy. Again, run this code to see what shape it produces."
			]
		},
		{
			"cell_type":"code",
			"execution_count":null,
			"metadata":{
				"id":"1lvkf123i6qe6"
			},
			"outputs":[],
			"source":[
				"matrix = np.array(\n",
				"\t[[1, 2, 2],\n",
				" \t [3, 0, 4]]\n",
				")\n",
				"matrix.shape"
			]
		},
		{
			"cell_type":"markdown",
			"metadata":{},
			"source":[
				"The following code will look up the value of the cell at address `(2, 3)`:"
			]
		},
		{
			"cell_type":"code",
			"execution_count":null,
			"metadata":{
				"id":"1lvkf123i6qe6"
			},
			"outputs":[],
			"source":[
				"matrix[1,2]"
			]
		},
		{
			"cell_type":"markdown",
			"metadata":{},
			"source":[
				"Notice that we used the position `[1,2]` rather than the position `[2,3]` to look up the cell This is because Python\nuses \"zero-indexing\": positions are counted starting at `0` rather than `1`."
			]
		},
		{
			"cell_type":"markdown",
			"metadata":{},
			"source":[
				"**Task**: Modify the code below to look up the number of people in the top-left house in the neighborhood / the value of the top-left cell in the matrix:"
			]
		},
		{
			"cell_type":"code",
			"execution_count":null,
			"metadata":{
				"id":"1lvkf123i6qe6"
			},
			"outputs":[],
			"source":[
				"matrix[1,2]"
			]
		},
		{
			"cell_type":"markdown",
			"metadata":{},
			"source":[
				"### Multi-story houses"
			]
		},
		{
			"cell_type":"markdown",
			"metadata":{},
			"source":[
				"Now let's imagine that there are *two* floors in each building in our 2 × 3 neighborhood."
			]
		},
		{
			"cell_type":"markdown",
			"metadata":{},
			"source":[
				"<center><img width=\"473\" src=\"https://quivergeometry.net/indaba/0l44jtthliwbf_1v4ri2jbc3lzo_0946_0490.png\"></center>"
			]
		},
		{
			"cell_type":"markdown",
			"metadata":{},
			"source":[
				"To identify a household, we’ll need the street address (which requires the street name and house number), and an\nadditional floor number."
			]
		},
		{
			"cell_type":"markdown",
			"metadata":{},
			"source":[
				"These three parts of a cell location are called **axes**. To locate a cell we must provide an **index** (meaning a\nnumber like 1, 2, or 3) for every **axis**."
			]
		},
		{
			"cell_type":"markdown",
			"metadata":{},
			"source":[
				"This kind of array is called a **3-array**. We've shown it on the right by drawing two matrices on top of one another,\nbut we can also imagine it in 3 dimensions, like this:"
			]
		},
		{
			"cell_type":"markdown",
			"metadata":{},
			"source":[
				"<center><img width=\"300\" src=\"https://quivergeometry.net/indaba/00nrzpr5ui9zt_0hw8xqzqdkhp1_0600_0556.png\"></center>"
			]
		},
		{
			"cell_type":"markdown",
			"metadata":{},
			"source":[
				"Here's the numpy to create this array:"
			]
		}
	],
	"metadata":{
		"kernelspec":{
			"display_name":"Python 3.8.5 ('base')",
			"language":"python",
			"name":"python3"
		},
		"language_info":{
			"name":"python",
			"version":"3.8.5"
		}
	},
	"nbformat":4,
	"nbformat_minor":0
}