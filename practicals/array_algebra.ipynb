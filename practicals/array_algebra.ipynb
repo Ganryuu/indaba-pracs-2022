{
	"cells":[
		{
			"cell_type":"markdown",
			"metadata":{},
			"source":[
				"# Array Algebra"
			]
		}
	],
	"metadata":{
		"kernelspec":{
			"display_name":"Python 3.8.5 ('base')",
			"language":"python",
			"name":"python3"
		},
		"language_info":{
			"name":"python",
			"version":"3.8.5"
		}
	},
	"nbformat":4,
	"nbformat_minor":0
}