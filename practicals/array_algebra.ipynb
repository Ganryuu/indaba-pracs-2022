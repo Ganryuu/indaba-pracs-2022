{
	"cells":[
		{
			"cell_type":"markdown",
			"metadata":{},
			"source":[
				"# Array Algebra"
			]
		},
		{
			"cell_type":"markdown",
			"metadata":{},
			"source":[
				"<center><img width=\"400\" src=\"https://quivergeometry.net/indaba/07ozagz3u8q1h_1g9xeqr8o55fk_0800_1012.png\"></center>"
			]
		},
		{
			"cell_type":"markdown",
			"metadata":{},
			"source":[
				"**Authors:** Taliesin Beynon"
			]
		},
		{
			"cell_type":"markdown",
			"metadata":{},
			"source":[
				"**Introduction:** Array algebra is the theory and practice of manipulating and computing with arrays of numbers. The\nunderlying ideas are quite simple and intuitive, once you're used to them! This practical will cover some of the core\nconcepts, and focus on visualizing the operations to make them easier to understand."
			]
		},
		{
			"cell_type":"markdown",
			"metadata":{},
			"source":[
				"**Topics:** numpy, jax, array processing"
			]
		},
		{
			"cell_type":"markdown",
			"metadata":{},
			"source":[
				"**Learning objectives:**"
			]
		},
		{
			"cell_type":"markdown",
			"metadata":{},
			"source":[
				"* Understand how arrays of number of various sizes and shapes can represent data from the real world\n",
				"* Manipulate these arrays to perform useful computations\n",
				"* Understand how shapes of arrays are transformed by these operations\n",
				"* Detect bugs in existing code\n",
				"* Choose the right transformations to accomplish a given task."
			]
		},
		{
			"cell_type":"markdown",
			"metadata":{},
			"source":[
				"# Installation and imports"
			]
		},
		{
			"cell_type":"code",
			"execution_count":null,
			"metadata":{},
			"outputs":[],
			"source":[
				"## Install and import anything required. Capture hides the output from the cell. \n",
				"#@title Install and import required packages. (Run Cell)\n",
				"import os \n",
				"import matplotlib.pyplot as plt\n",
				"import numpy as np"
			]
		},
		{
			"cell_type":"markdown",
			"metadata":{},
			"source":[
				"# What are arrays?"
			]
		},
		{
			"cell_type":"markdown",
			"metadata":{},
			"source":[
				"To get started we'll cover some very basic ideas in array algebra."
			]
		},
		{
			"cell_type":"markdown",
			"metadata":{},
			"source":[
				"A **numeric array** is a data structure containing **numbers**. These numbers are *organized* in a system, grid-like\nway. We can classify arrays by *how* they organize these numbers -- in particular the shapes of grids they use. But\nfirst, let's introduce some terminology."
			]
		},
		{
			"cell_type":"code",
			"metadata":{},
			"outputs":[
				{"output_type":"execute_result","data":{"text/plain":"array([110.67604192, 117.72977066, 102.08241908])"}}
			],
			"source":[
				"image_array.mean(axis=(0,1))"
			]
		}
	],
	"metadata":{
		"accelerator":"TPU",
		"colab":{
			"collapsed_sections":[],
			"name":"Template.ipynb",
			"provenance":[]
		},
		"gpuClass":"standard",
		"kernelspec":{
			"display_name":"Python 3.8.5 ('base')",
			"language":"python",
			"name":"python3"
		},
		"language_info":{
			"name":"python",
			"version":"3.8.5"
		}
	},
	"nbformat":4,
	"nbformat_minor":0
}