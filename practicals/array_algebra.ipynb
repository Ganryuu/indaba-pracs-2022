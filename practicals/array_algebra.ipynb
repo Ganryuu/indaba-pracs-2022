{
	"cells":[
		{
			"cell_type":"markdown",
			"metadata":{},
			"source":[
				"# Array Algebra"
			]
		},
		{
			"cell_type":"markdown",
			"metadata":{},
			"source":[
				"<center><img width=\"400\" src=\"https://quivergeometry.net/indaba/07ozagz3u8q1h_1g9xeqr8o55fk_0800_1012.png\"></center>"
			]
		},
		{
			"cell_type":"markdown",
			"metadata":{},
			"source":[
				"**Authors:** Taliesin Beynon"
			]
		},
		{
			"cell_type":"markdown",
			"metadata":{},
			"source":[
				"**Introduction:** Array algebra is the theory and practice of manipulating and computing with arrays of numbers. The\nunderlying ideas are quite simple and intuitive, once you're used to them! This practical will cover some of the core\nconcepts, and focus on visualizing the operations to make them easier to understand."
			]
		}
	],
	"metadata":{
		"kernelspec":{
			"display_name":"Python 3.8.5 ('base')",
			"language":"python",
			"name":"python3"
		},
		"language_info":{
			"name":"python",
			"version":"3.8.5"
		}
	},
	"nbformat":4,
	"nbformat_minor":0
}