{
	"cells":[
		{
			"cell_type":"markdown",
			"metadata":{},
			"source":[
				"# Array Algebra"
			]
		},
		{
			"cell_type":"markdown",
			"metadata":{},
			"source":[
				"<center><img width=\"400\" src=\"https://quivergeometry.net/indaba/07ozagz3u8q1h_1g9xeqr8o55fk_0800_1012.png\"></center>"
			]
		}
	],
	"metadata":{
		"kernelspec":{
			"display_name":"Python 3.8.5 ('base')",
			"language":"python",
			"name":"python3"
		},
		"language_info":{
			"name":"python",
			"version":"3.8.5"
		}
	},
	"nbformat":4,
	"nbformat_minor":0
}