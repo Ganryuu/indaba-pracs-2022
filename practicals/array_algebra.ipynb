{
	"cells":[
		{
			"cell_type":"markdown",
			"metadata":{},
			"source":[
				"# Array Algebra"
			]
		},
		{
			"cell_type":"markdown",
			"metadata":{},
			"source":[
				"<center><img width=\"400\" src=\"https://quivergeometry.net/indaba/07ozagz3u8q1h_1g9xeqr8o55fk_0800_1012.png\"></center>"
			]
		},
		{
			"cell_type":"markdown",
			"metadata":{},
			"source":[
				"**Authors:** Taliesin Beynon"
			]
		},
		{
			"cell_type":"markdown",
			"metadata":{},
			"source":[
				"**Introduction:** Array algebra is the theory and practice of manipulating and computing with arrays of numbers. The\nunderlying ideas are quite simple and intuitive, once you're used to them! This practical will cover some of the core\nconcepts, and focus on visualizing the operations to make them easier to understand."
			]
		},
		{
			"cell_type":"markdown",
			"metadata":{},
			"source":[
				"**Topics:** numpy, jax, array processing"
			]
		},
		{
			"cell_type":"markdown",
			"metadata":{},
			"source":[
				"**Learning objectives:**"
			]
		},
		{
			"cell_type":"markdown",
			"metadata":{},
			"source":[
				"* Understand how arrays of number of various sizes and shapes can represent data from the real world\n",
				"* Manipulate these arrays to perform useful computations\n",
				"* Understand how shapes of arrays are transformed by these operations\n",
				"* Detect bugs in existing code\n",
				"* Choose the right transformations to accomplish a given task."
			]
		},
		{
			"cell_type":"markdown",
			"metadata":{},
			"source":[
				"# Installation and imports"
			]
		},
		{
			"cell_type":"code",
			"metadata":{},
			"outputs":[],
			"source":[
				"## Install and import anything required. Capture hides the output from the cell. \n",
				"#@title Install and import required packages. (Run Cell)\n",
				"import os \n",
				"import matplotlib.pyplot as plt\n",
				"import numpy as np"
			]
		}
	],
	"metadata":{
		"kernelspec":{
			"display_name":"Python 3.8.5 ('base')",
			"language":"python",
			"name":"python3"
		},
		"language_info":{
			"name":"python",
			"version":"3.8.5"
		}
	},
	"nbformat":4,
	"nbformat_minor":0
}