{
  "nbformat": 4,
  "nbformat_minor": 0,
  "metadata": {
    "colab": {
      "name": "Indaba_2022_Prac_Template.ipynb",
      "provenance": [],
      "collapsed_sections": [
        "cOGuGWtLmP7n",
        "aB0503xgmSFh"
      ]
    },
    "kernelspec": {
      "name": "python3",
      "display_name": "Python 3"
    },
    "language_info": {
      "name": "python"
    }
  },
  "cells": [
    {
      "cell_type": "markdown",
      "source": [
        "# [Practical Heading]\n",
        "\n",
        "<img src=\"https://www.pulsecarshalton.co.uk/wp-content/uploads/2016/08/jk-placeholder-image.jpg\" width=\"60%\" />\n",
        "\n",
        "<a href=\"\" target=\"_parent\"><img src=\"https://colab.research.google.com/assets/colab-badge.svg\" alt=\"Open In Colab\"/></a>\n",
        "\n",
        "© Deep Learning Indaba 2022. Apache License 2.0.\n",
        "\n",
        "**Authors:**\n",
        "\n",
        "**Introduction:** \n",
        "\n",
        "[Intro to the topic. Probably between 3-5 lines.]\n",
        "\n",
        "**Topics:** \n",
        "\n",
        "Content: [e.g. Reinforcement Learning, Computer Vision etc. Can be more than one.]  \n",
        "Level: [Beginner, Intermediate, Advanced.] \n",
        "\n",
        "[Let's use the colours from notion here. E.g. <font color='grey'>`Beginner`</font> and <font color='blue'>`Generative Models`</font>.]\n",
        "\n",
        "\n",
        "**Aims/Learning Objectives:**\n",
        "\n",
        "[Points on the exact learning outcomes from the prac. This should probably be <=5 things.]\n",
        "\n",
        "**Prerequisites:**\n",
        "\n",
        "[Knowledge required for this prac. You can link a relevant parallel track session, blogs, papers, courses, topics etc.]\n",
        "\n",
        "**Outline:** \n",
        "\n",
        "[Points that link to each section.]\n",
        "\n",
        "**Before you start:**\n",
        "\n",
        "For this practical, you will need to use a GPU to speed up training. To do this, go to the \"Runtime\" menu in Colab, select \"Change runtime type\" and then in the popup menu, choose \"GPU\" in the \"Hardware accelerator\" box.\n",
        "\n",
        "[Any other tasks just before starting.]\n"
      ],
      "metadata": {
        "id": "m2s4kN_QPQVe"
      }
    },
    {
      "cell_type": "markdown",
      "source": [
        "## Installation and Imports"
      ],
      "metadata": {
        "id": "6EqhIg1odqg0"
      }
    },
    {
      "cell_type": "code",
      "source": [
        "## Install and import anything required. Capture hides the output from the cell. \n",
        "#@title Install and import required packages. (Run Cell)\n",
        "%%capture\n"
      ],
      "metadata": {
        "id": "4boGA9rYdt9l"
      },
      "execution_count": null,
      "outputs": []
    },
    {
      "cell_type": "markdown",
      "source": [
        "## Sample Section 1 - <font color='blue'>`ALL`</font>\n",
        "\n",
        "[Background/content for the section.]"
      ],
      "metadata": {
        "id": "-ZUp8i37dFbU"
      }
    },
    {
      "cell_type": "markdown",
      "source": [
        "Math foundations:\n"
      ],
      "metadata": {
        "id": "4PbcFsfAibBu"
      }
    },
    {
      "cell_type": "markdown",
      "source": [
        "**Math Task:**\n",
        "\n",
        "[Optional math task or ask multiple choice question. E.g. the derivation of this would equal a, b or c. We could check this at the end of the prac.]\n"
      ],
      "metadata": {
        "id": "axeZiGJxibBw"
      }
    },
    {
      "cell_type": "code",
      "source": [
        "selection = 'a' #@param [\"a\", \"b\", \"c\"]\n",
        "print(f\"You selected: {selection}\")"
      ],
      "metadata": {
        "id": "vCURjj1HkQkW"
      },
      "execution_count": null,
      "outputs": []
    },
    {
      "cell_type": "markdown",
      "source": [
        "Code demonstration"
      ],
      "metadata": {
        "id": "HvbKqrRniVDa"
      }
    },
    {
      "cell_type": "code",
      "source": [
        "# Code demonstration"
      ],
      "metadata": {
        "id": "mNQ8Dgx2Wl8Q"
      },
      "execution_count": null,
      "outputs": []
    },
    {
      "cell_type": "markdown",
      "source": [
        "**Code Task:**"
      ],
      "metadata": {
        "id": "jukLIz2oeiq9"
      }
    },
    {
      "cell_type": "code",
      "source": [
        "# Code to be implemented during practical"
      ],
      "metadata": {
        "id": "fFXVVGa6elwN"
      },
      "execution_count": null,
      "outputs": []
    },
    {
      "cell_type": "markdown",
      "source": [
        "## Sample Section 2 - <font color='green'>`Advanced`</font>\n",
        "\n",
        "[Background/content for the section.]"
      ],
      "metadata": {
        "id": "cOGuGWtLmP7n"
      }
    },
    {
      "cell_type": "markdown",
      "source": [
        "Math foundations:\n"
      ],
      "metadata": {
        "id": "uZXM-9lGmP7o"
      }
    },
    {
      "cell_type": "markdown",
      "source": [
        "**Math Task:**\n",
        "\n",
        "[Optional math task or ask multiple choice question. E.g. the derivation of this would equal a, b or c.]\n"
      ],
      "metadata": {
        "id": "033sFvYkmP7o"
      }
    },
    {
      "cell_type": "code",
      "source": [
        "selection = 'a' #@param [\"a\", \"b\", \"c\"]\n",
        "print(f\"You selected: {selection}\")"
      ],
      "metadata": {
        "id": "xb_ch9damP7p"
      },
      "execution_count": null,
      "outputs": []
    },
    {
      "cell_type": "markdown",
      "source": [
        "Code demonstration"
      ],
      "metadata": {
        "id": "Inmy27LamP7r"
      }
    },
    {
      "cell_type": "code",
      "source": [
        "# Code demonstration"
      ],
      "metadata": {
        "id": "asY4ZxxsmP7s"
      },
      "execution_count": null,
      "outputs": []
    },
    {
      "cell_type": "markdown",
      "source": [
        "**Code Task:**"
      ],
      "metadata": {
        "id": "XeO174_rmP7s"
      }
    },
    {
      "cell_type": "code",
      "source": [
        "# Code to be implemented during practical"
      ],
      "metadata": {
        "id": "5wnqASD8mP7t"
      },
      "execution_count": null,
      "outputs": []
    },
    {
      "cell_type": "code",
      "source": [
        ""
      ],
      "metadata": {
        "id": "C28jKhO3mR2L"
      },
      "execution_count": null,
      "outputs": []
    },
    {
      "cell_type": "markdown",
      "source": [
        "## Sample Section 3 - <font color='purple'>`Optional`</font>\n",
        "\n",
        "[Background/content for the section.]"
      ],
      "metadata": {
        "id": "aB0503xgmSFh"
      }
    },
    {
      "cell_type": "markdown",
      "source": [
        "Math foundations:\n"
      ],
      "metadata": {
        "id": "NaHwVfAzmSFi"
      }
    },
    {
      "cell_type": "markdown",
      "source": [
        "**Math Task:**\n",
        "\n",
        "[Optional math task or ask multiple choice question. E.g. the derivation of this would equal a, b or c.]\n"
      ],
      "metadata": {
        "id": "D5EyZhdomSFj"
      }
    },
    {
      "cell_type": "code",
      "source": [
        "selection = 'a' #@param [\"a\", \"b\", \"c\"]\n",
        "print(f\"You selected: {selection}\")"
      ],
      "metadata": {
        "id": "NOixl8TpmSFk"
      },
      "execution_count": null,
      "outputs": []
    },
    {
      "cell_type": "markdown",
      "source": [
        "Code demonstration"
      ],
      "metadata": {
        "id": "hzkZ7hfmmSFl"
      }
    },
    {
      "cell_type": "code",
      "source": [
        "# Code demonstration"
      ],
      "metadata": {
        "id": "_grJb0p5mSFl"
      },
      "execution_count": null,
      "outputs": []
    },
    {
      "cell_type": "markdown",
      "source": [
        "**Code Task:**"
      ],
      "metadata": {
        "id": "Bxt-JSDymSFm"
      }
    },
    {
      "cell_type": "code",
      "source": [
        "# Code to be implemented during practical"
      ],
      "metadata": {
        "id": "NloS7le2mSFn"
      },
      "execution_count": null,
      "outputs": []
    },
    {
      "cell_type": "markdown",
      "source": [
        "## Conclusion\n",
        "**Summary:**\n",
        "\n",
        "[Summary of the main points/takeaways from the prac.]\n",
        "\n",
        "**Next Steps:** \n",
        "\n",
        "[Next steps for people who have completed the prac, like optional reading (e.g. blogs, papers, courses, youtube videos). This could also link to other pracs.]\n",
        "\n",
        "**Appendix:** \n",
        "\n",
        "[Anything (probably math heavy stuff) we don't have space for in the main practical sections.]\n",
        "\n",
        "**References:** \n",
        "\n",
        "[References for any content used in the notebook.]\n",
        "\n",
        "For other practicals from the Deep Learning Indaba, please visit [here](https://github.com/deep-learning-indaba/indaba-pracs-2022)."
      ],
      "metadata": {
        "id": "fV3YG7QOZD-B"
      }
    },
    {
      "cell_type": "markdown",
      "source": [
        "## Feedback\n",
        "\n",
        "Please provide feedback that we can use to improve our practicals in the future."
      ],
      "metadata": {
        "id": "o1ndpYE50BpG"
      }
    },
    {
      "cell_type": "code",
      "source": [
        "#@title Generate Feedback Form. (Run Cell)\n",
        "from IPython.display import HTML\n",
        "HTML(\n",
        "\"\"\"\n",
        "<iframe \n",
        "\tsrc=\"https://forms.gle/bvLLPX74LMGrFefo9\",\n",
        "  width=\"80%\" \n",
        "\theight=\"1200px\" >\n",
        "\tLoading...\n",
        "</iframe>\n",
        "\"\"\"\n",
        ")"
      ],
      "metadata": {
        "cellView": "form",
        "id": "OIZvkhfRz9Jz"
      },
      "execution_count": null,
      "outputs": []
    },
    {
      "cell_type": "markdown",
      "source": [
        "<img src=\"https://baobab.deeplearningindaba.com/static/media/indaba-logo-dark.d5a6196d.png\" width=\"50%\" />"
      ],
      "metadata": {
        "id": "oglV4kHMWnIN"
      }
    }
  ]
}